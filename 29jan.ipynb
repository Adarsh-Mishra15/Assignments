{
 "cells": [
  {
   "cell_type": "code",
   "execution_count": 1,
   "id": "3f8770ab-4ea2-442e-8b85-33df1b0acbef",
   "metadata": {},
   "outputs": [
    {
     "data": {
      "text/plain": [
       "' Guido van Rossum developed python programming '"
      ]
     },
     "execution_count": 1,
     "metadata": {},
     "output_type": "execute_result"
    }
   ],
   "source": [
    "# 1\n",
    "\"\"\" Guido van Rossum developed python programming \"\"\""
   ]
  },
  {
   "cell_type": "code",
   "execution_count": 2,
   "id": "4637ea86-0d11-4f49-80e1-29d2352b10c2",
   "metadata": {},
   "outputs": [
    {
     "data": {
      "text/plain": [
       "' Python is a structured and object oriented programming language '"
      ]
     },
     "execution_count": 2,
     "metadata": {},
     "output_type": "execute_result"
    }
   ],
   "source": [
    "# 2\n",
    "\"\"\" Python is a structured and object oriented programming language \"\"\""
   ]
  },
  {
   "cell_type": "code",
   "execution_count": 3,
   "id": "d6e6b8a1-dca7-4944-b176-c1b2772b3dde",
   "metadata": {},
   "outputs": [
    {
     "data": {
      "text/plain": [
       "' Yes, Python is case sensitive  '"
      ]
     },
     "execution_count": 3,
     "metadata": {},
     "output_type": "execute_result"
    }
   ],
   "source": [
    "#3\n",
    "\"\"\" Yes, Python is case sensitive  \"\"\""
   ]
  },
  {
   "cell_type": "code",
   "execution_count": 4,
   "id": "3b41c381-a665-43fa-b417-61d37e01572c",
   "metadata": {},
   "outputs": [
    {
     "data": {
      "text/plain": [
       "' .py, .pyi is the correct extensions of python '"
      ]
     },
     "execution_count": 4,
     "metadata": {},
     "output_type": "execute_result"
    }
   ],
   "source": [
    "#4\n",
    "\"\"\" .py, .pyi is the correct extensions of python \"\"\""
   ]
  },
  {
   "cell_type": "code",
   "execution_count": 5,
   "id": "65528846-076a-44c0-b20b-7251a6b7c284",
   "metadata": {},
   "outputs": [
    {
     "data": {
      "text/plain": [
       "' Python is an interpreted language '"
      ]
     },
     "execution_count": 5,
     "metadata": {},
     "output_type": "execute_result"
    }
   ],
   "source": [
    "#5\n",
    "\"\"\" Python is an interpreted language \"\"\""
   ]
  },
  {
   "cell_type": "code",
   "execution_count": 6,
   "id": "ca4224a9-f17e-442b-bb5c-8c0cd72c2aa1",
   "metadata": {},
   "outputs": [
    {
     "data": {
      "text/plain": [
       "'\\nmodeule\\nclass\\nfunction\\n'"
      ]
     },
     "execution_count": 6,
     "metadata": {},
     "output_type": "execute_result"
    }
   ],
   "source": [
    "# 6\n",
    "\n",
    "\"\"\"\n",
    "modeule\n",
    "class\n",
    "function\n",
    "\"\"\""
   ]
  },
  {
   "cell_type": "code",
   "execution_count": 7,
   "id": "ad5c6019-7c6e-4b1b-92d1-2bc81ec6ef34",
   "metadata": {},
   "outputs": [
    {
     "data": {
      "text/plain": [
       "\" a hashtag symbol '#' is used to give single-line comment in python \""
      ]
     },
     "execution_count": 7,
     "metadata": {},
     "output_type": "execute_result"
    }
   ],
   "source": [
    "#7\n",
    "\"\"\" a hashtag symbol '#' is used to give single-line comment in python \"\"\""
   ]
  },
  {
   "cell_type": "code",
   "execution_count": 8,
   "id": "cd964fb3-9f80-46de-8622-0c664624dc14",
   "metadata": {},
   "outputs": [
    {
     "data": {
      "text/plain": [
       "'\\n# using command line\\npython --version or python -V\\n\\n# using python_version() function\\nfrom platform import python_version\\npython_version()\\n\\n# using sys.version method\\nimport sys\\nsys.version\\n'"
      ]
     },
     "execution_count": 8,
     "metadata": {},
     "output_type": "execute_result"
    }
   ],
   "source": [
    "#8\n",
    "# functions used to check the version of python are:\n",
    "\"\"\"\n",
    "# using command line\n",
    "python --version or python -V\n",
    "\n",
    "# using python_version() function\n",
    "from platform import python_version\n",
    "python_version()\n",
    "\n",
    "# using sys.version method\n",
    "import sys\n",
    "sys.version\n",
    "\"\"\" "
   ]
  },
  {
   "cell_type": "code",
   "execution_count": 9,
   "id": "ee78c999-f696-4511-bc90-3f15c64c955c",
   "metadata": {},
   "outputs": [
    {
     "data": {
      "text/plain": [
       "' Python supports the creation of anonymous functions  at runtime, using a construct called lambda.\\nlambda()  function '"
      ]
     },
     "execution_count": 9,
     "metadata": {},
     "output_type": "execute_result"
    }
   ],
   "source": [
    "#9\n",
    "\"\"\" Python supports the creation of anonymous functions  at runtime, using a construct called lambda.\n",
    "lambda()  function \"\"\""
   ]
  },
  {
   "cell_type": "code",
   "execution_count": 10,
   "id": "f495ae4e-5e0f-478a-801f-3223844987c4",
   "metadata": {},
   "outputs": [
    {
     "data": {
      "text/plain": [
       "' pip stands for preferred installer program '"
      ]
     },
     "execution_count": 10,
     "metadata": {},
     "output_type": "execute_result"
    }
   ],
   "source": [
    "#10\n",
    "\"\"\" pip stands for preferred installer program \"\"\""
   ]
  },
  {
   "cell_type": "code",
   "execution_count": 11,
   "id": "cfb32b54-f1a2-44ec-a88d-3b0eb3cdb99f",
   "metadata": {},
   "outputs": [
    {
     "data": {
      "text/plain": [
       "' in-bulit functions in pyhton are - type(), print(), input(), len(), find(), append(), '"
      ]
     },
     "execution_count": 11,
     "metadata": {},
     "output_type": "execute_result"
    }
   ],
   "source": [
    "#11\n",
    "\"\"\" in-bulit functions in pyhton are - type(), print(), input(), len(), find(), append(), \"\"\""
   ]
  },
  {
   "cell_type": "code",
   "execution_count": 12,
   "id": "ad617acc-166f-41eb-8997-91d98a07eb79",
   "metadata": {},
   "outputs": [
    {
     "data": {
      "text/plain": [
       "' An identifier can have maximum length of 79 characters '"
      ]
     },
     "execution_count": 12,
     "metadata": {},
     "output_type": "execute_result"
    }
   ],
   "source": [
    "#12\n",
    "\"\"\" An identifier can have maximum length of 79 characters \"\"\""
   ]
  },
  {
   "cell_type": "code",
   "execution_count": 13,
   "id": "130c1e6a-bc2b-4641-8a1c-db2df7e7dca6",
   "metadata": {},
   "outputs": [
    {
     "data": {
      "text/plain": [
       "'benefits of learning python:\\n    used in Data Science\\n    used in AI as well as Machine Learning\\n    used in Computer Graphics\\n    Scientific as well as Mathematical Calculations\\n'"
      ]
     },
     "execution_count": 13,
     "metadata": {},
     "output_type": "execute_result"
    }
   ],
   "source": [
    "#13\n",
    "\"\"\"benefits of learning python:\n",
    "    used in Data Science\n",
    "    used in AI as well as Machine Learning\n",
    "    used in Computer Graphics\n",
    "    Scientific as well as Mathematical Calculations\n",
    "\"\"\" "
   ]
  },
  {
   "cell_type": "code",
   "execution_count": 14,
   "id": "6c21f8c7-cc61-4842-83bb-bfbe471f7ff5",
   "metadata": {},
   "outputs": [
    {
     "data": {
      "text/plain": [
       "'\\nIn Python, memory management is done automatically by the Python memory manager through a process called reference counting,\\nand is also facilitated by a cycle-detecting garbage collector that periodically frees memory occupied by objects that are no longer in use.\\nAdditionally, Python has built-in support for dynamic allocation of memory using data structures such as lists, dictionaries, and sets.\\n\\nThere are two types of memory allocation:\\n1->Static Memory Allocation\\n2->Dynamic Memeory Allocation\\n'"
      ]
     },
     "execution_count": 14,
     "metadata": {},
     "output_type": "execute_result"
    }
   ],
   "source": [
    "#14\n",
    "\"\"\"\n",
    "In Python, memory management is done automatically by the Python memory manager through a process called reference counting,\n",
    "and is also facilitated by a cycle-detecting garbage collector that periodically frees memory occupied by objects that are no longer in use.\n",
    "Additionally, Python has built-in support for dynamic allocation of memory using data structures such as lists, dictionaries, and sets.\n",
    "\n",
    "There are two types of memory allocation:\n",
    "1->Static Memory Allocation\n",
    "2->Dynamic Memeory Allocation\n",
    "\"\"\""
   ]
  },
  {
   "cell_type": "code",
   "execution_count": 15,
   "id": "9df5eec7-60a9-4c5b-b344-f2a6755a8ab7",
   "metadata": {},
   "outputs": [
    {
     "data": {
      "text/plain": [
       "'\\nsteps to install python Windows\\n\\n1 Download the latest version of Python from the official   website: https://www.python.org/downloads/\\n    2 Run the installation file and follow the instructions to complete the installation process.\\n    3 Open the Start menu and search for \"Environment Variables\". Click on \"Edit the system environment variables\".\\n    4 In the System Properties window, click on the \"Environment Variables\" button.\\n    5 Under System Variables, scroll down and find the \"Path\" variable, then click on \"Edit\".\\n    6 Click on \"New\" and add the path to the Python installation directory, typically \"C:\\\\PythonXX\", where XX is the version number.\\n    7 Click \"OK\" to save the changes and close all windows.\\n    8 Restart your computer to ensure the changes take effect.\\n'"
      ]
     },
     "execution_count": 15,
     "metadata": {},
     "output_type": "execute_result"
    }
   ],
   "source": [
    "#15\n",
    "\"\"\"\n",
    "steps to install python Windows\n",
    "\n",
    "1 Download the latest version of Python from the official   website: https://www.python.org/downloads/\n",
    "    2 Run the installation file and follow the instructions to complete the installation process.\n",
    "    3 Open the Start menu and search for \"Environment Variables\". Click on \"Edit the system environment variables\".\n",
    "    4 In the System Properties window, click on the \"Environment Variables\" button.\n",
    "    5 Under System Variables, scroll down and find the \"Path\" variable, then click on \"Edit\".\n",
    "    6 Click on \"New\" and add the path to the Python installation directory, typically \"C:\\PythonXX\", where XX is the version number.\n",
    "    7 Click \"OK\" to save the changes and close all windows.\n",
    "    8 Restart your computer to ensure the changes take effect.\n",
    "\"\"\""
   ]
  },
  {
   "cell_type": "code",
   "execution_count": 16,
   "id": "bfcfea5d-c19c-400b-98c5-7439035622fc",
   "metadata": {},
   "outputs": [
    {
     "data": {
      "text/plain": [
       "' Yes, Indentation is required in Python'"
      ]
     },
     "execution_count": 16,
     "metadata": {},
     "output_type": "execute_result"
    }
   ],
   "source": [
    "#16\n",
    "\"\"\" Yes, Indentation is required in Python\"\"\""
   ]
  },
  {
   "cell_type": "code",
   "execution_count": null,
   "id": "bd3eaf01-db75-41ac-8e6a-e4554bda9267",
   "metadata": {},
   "outputs": [],
   "source": []
  }
 ],
 "metadata": {
  "kernelspec": {
   "display_name": "Python 3 (ipykernel)",
   "language": "python",
   "name": "python3"
  },
  "language_info": {
   "codemirror_mode": {
    "name": "ipython",
    "version": 3
   },
   "file_extension": ".py",
   "mimetype": "text/x-python",
   "name": "python",
   "nbconvert_exporter": "python",
   "pygments_lexer": "ipython3",
   "version": "3.10.8"
  }
 },
 "nbformat": 4,
 "nbformat_minor": 5
}
