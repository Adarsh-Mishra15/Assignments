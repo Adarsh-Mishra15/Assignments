{
 "cells": [
  {
   "cell_type": "code",
   "execution_count": 4,
   "id": "b46deca8-8473-4a10-8391-18726c0db400",
   "metadata": {},
   "outputs": [
    {
     "data": {
      "text/plain": [
       "[1, 3, 5, 7, 9, 11, 13, 15, 17, 19, 21, 23, 25]"
      ]
     },
     "execution_count": 4,
     "metadata": {},
     "output_type": "execute_result"
    }
   ],
   "source": [
    "#1\n",
    "\n",
    "\"\"\" def keyword is used to create function \"\"\"\n",
    "\n",
    "def create_odd_numbers():\n",
    "    l = []\n",
    "    for i in range(1,26):\n",
    "        if i%2!=0:\n",
    "            l.append(i)\n",
    "    return l\n",
    "    \n",
    "create_odd_numbers()"
   ]
  },
  {
   "cell_type": "code",
   "execution_count": 8,
   "id": "266c1cf0-4c20-44c0-876b-c79a19b97d98",
   "metadata": {},
   "outputs": [
    {
     "name": "stdout",
     "output_type": "stream",
     "text": [
      "('hello', 1, 2, [1, 2, 3, 4, 5, (9, 8)])\n"
     ]
    },
    {
     "data": {
      "text/plain": [
       "{'a': 23, 'b': 'hello'}"
      ]
     },
     "execution_count": 8,
     "metadata": {},
     "output_type": "execute_result"
    }
   ],
   "source": [
    "# 2\n",
    "\n",
    "# *args is used for multiple arguments in functions\n",
    "l=[1,2,3,4,5,(9,8)]\n",
    "\n",
    "def test3(*args):\n",
    "    return args\n",
    "print(test3(\"hello\",1,2,l))\n",
    "\n",
    "\n",
    "# **kwargs is used for mutiple key value pair arguments in function\n",
    "def test7(**kwargs):\n",
    "    return kwargs\n",
    "test7(a=23,b=\"hello\")"
   ]
  },
  {
   "cell_type": "code",
   "execution_count": 12,
   "id": "0f26f013-6f5a-44a2-90d2-93288643383a",
   "metadata": {},
   "outputs": [
    {
     "name": "stdout",
     "output_type": "stream",
     "text": [
      "2 4 6 8 10 "
     ]
    }
   ],
   "source": [
    "#3\n",
    "\"\"\"\n",
    "An iterator in Python is an object that allows to traverse a container(list,tuple,etc)\n",
    "\n",
    "The method used to initialize an iterator object is iter() and the method used for iteration is next()\n",
    "\"\"\"\n",
    "l = [2, 4, 6, 8, 10, 12, 14, 16, 18, 20]\n",
    "itr = iter(l)\n",
    "\n",
    "for i in range(5):\n",
    "    print(next(itr) , end =\" \")"
   ]
  },
  {
   "cell_type": "code",
   "execution_count": 14,
   "id": "91311d8c-e4ed-4bd0-aa1a-c40cd8cbc935",
   "metadata": {},
   "outputs": [
    {
     "name": "stdout",
     "output_type": "stream",
     "text": [
      "0 1 1 2 3 "
     ]
    }
   ],
   "source": [
    "#4\n",
    "\n",
    "\"\"\"\n",
    "A generator function generates a sequence of values, one at a time, instead of returning a single value. \n",
    "\n",
    "The yield keyword is used in a generator function because\n",
    "it allows the function to produce a value, pause execution, and then resume later.\n",
    "\"\"\"\n",
    "def fibonacci(n):\n",
    "    a, b = 0, 1\n",
    "    for i in range(n):\n",
    "        yield a\n",
    "        a, b = b, a + b\n",
    "\n",
    "fib = fibonacci(5)\n",
    "for i in fib:\n",
    "    print(i,end=\" \")"
   ]
  },
  {
   "cell_type": "code",
   "execution_count": 1,
   "id": "1dfe024d-9891-47fe-9817-36541b9017cb",
   "metadata": {},
   "outputs": [
    {
     "name": "stdout",
     "output_type": "stream",
     "text": [
      "2,3,5,7,11,13,17,19,23,29,31,37,41,43,47,53,59,61,67,71,"
     ]
    }
   ],
   "source": [
    "#5\n",
    "\n",
    "\"\"\" create generator function for prime numbers less than 1000 \"\"\"\n",
    "\n",
    "def prime_no():\n",
    "    primes = []\n",
    "    for num in range(2, 1000):\n",
    "        for prime in primes:\n",
    "            if num % prime == 0:\n",
    "                break\n",
    "        else:\n",
    "            primes.append(num)\n",
    "            yield num\n",
    "\n",
    "gen = prime_no()\n",
    "for i in range(20):\n",
    "    print(next(gen),end=\",\")\n",
    "                "
   ]
  },
  {
   "cell_type": "code",
   "execution_count": 8,
   "id": "2651d53a-4e17-4143-9445-112c278eaf5f",
   "metadata": {},
   "outputs": [
    {
     "name": "stdout",
     "output_type": "stream",
     "text": [
      "0 1,1,2,3,5,8,13,21,34,"
     ]
    }
   ],
   "source": [
    "#6\n",
    "\n",
    "a=0\n",
    "b=1\n",
    "\n",
    "print(a,b,end=\",\")\n",
    "\n",
    "i=2\n",
    "while(i<10):\n",
    "    c=a+b\n",
    "    print(c,end=\",\")\n",
    "    a=b\n",
    "    b=c\n",
    "    i+=1"
   ]
  },
  {
   "cell_type": "code",
   "execution_count": 2,
   "id": "ade07105-3e14-4bb0-b8f0-fde5d4718499",
   "metadata": {},
   "outputs": [
    {
     "data": {
      "text/plain": [
       "['p', 'w', 's', 'k', 'i', 'l', 'l', 's']"
      ]
     },
     "execution_count": 2,
     "metadata": {},
     "output_type": "execute_result"
    }
   ],
   "source": [
    "#7\n",
    "\n",
    "string = \"pwskills\"\n",
    "[i for i in string]"
   ]
  },
  {
   "cell_type": "code",
   "execution_count": 12,
   "id": "b8e62bc4-51ce-4f7c-a382-c7d763f3be07",
   "metadata": {},
   "outputs": [
    {
     "name": "stdin",
     "output_type": "stream",
     "text": [
      "Enter a number: 121\n"
     ]
    },
    {
     "name": "stdout",
     "output_type": "stream",
     "text": [
      "The given number is a plaindrome\n"
     ]
    }
   ],
   "source": [
    "#8\n",
    "number=input(\"Enter a number:\")\n",
    "\n",
    "i=0\n",
    "n=len(number)\n",
    "j=n-1\n",
    "\n",
    "is_palindrome=True\n",
    "while i<n and j>=0:\n",
    "    if number[i]!=number[j]:\n",
    "        is_palindrome=False\n",
    "        break\n",
    "    i+=1\n",
    "    j-=1\n",
    "\n",
    "if(is_palindrome!=True):\n",
    "    print(\"The given number is not a palindrome\")\n",
    "else:\n",
    "    print(\"The given number is a plaindrome\")\n"
   ]
  },
  {
   "cell_type": "code",
   "execution_count": 13,
   "id": "5ce4f199-b23a-4a58-8999-034ad5d547c9",
   "metadata": {},
   "outputs": [
    {
     "data": {
      "text/plain": [
       "[1,\n",
       " 3,\n",
       " 5,\n",
       " 7,\n",
       " 9,\n",
       " 11,\n",
       " 13,\n",
       " 15,\n",
       " 17,\n",
       " 19,\n",
       " 21,\n",
       " 23,\n",
       " 25,\n",
       " 27,\n",
       " 29,\n",
       " 31,\n",
       " 33,\n",
       " 35,\n",
       " 37,\n",
       " 39,\n",
       " 41,\n",
       " 43,\n",
       " 45,\n",
       " 47,\n",
       " 49,\n",
       " 51,\n",
       " 53,\n",
       " 55,\n",
       " 57,\n",
       " 59,\n",
       " 61,\n",
       " 63,\n",
       " 65,\n",
       " 67,\n",
       " 69,\n",
       " 71,\n",
       " 73,\n",
       " 75,\n",
       " 77,\n",
       " 79,\n",
       " 81,\n",
       " 83,\n",
       " 85,\n",
       " 87,\n",
       " 89,\n",
       " 91,\n",
       " 93,\n",
       " 95,\n",
       " 97,\n",
       " 99]"
      ]
     },
     "execution_count": 13,
     "metadata": {},
     "output_type": "execute_result"
    }
   ],
   "source": [
    "#9\n",
    "\n",
    "[i for i in range(1,101) if i%2!=0]"
   ]
  },
  {
   "cell_type": "code",
   "execution_count": null,
   "id": "83205cf1-0527-48c3-b9f5-42fb27e52ae8",
   "metadata": {},
   "outputs": [],
   "source": []
  }
 ],
 "metadata": {
  "kernelspec": {
   "display_name": "Python 3 (ipykernel)",
   "language": "python",
   "name": "python3"
  },
  "language_info": {
   "codemirror_mode": {
    "name": "ipython",
    "version": 3
   },
   "file_extension": ".py",
   "mimetype": "text/x-python",
   "name": "python",
   "nbconvert_exporter": "python",
   "pygments_lexer": "ipython3",
   "version": "3.10.8"
  }
 },
 "nbformat": 4,
 "nbformat_minor": 5
}
