{
 "cells": [
  {
   "cell_type": "code",
   "execution_count": 1,
   "id": "3d764561-1647-4e12-a6b3-003a26c74b5e",
   "metadata": {},
   "outputs": [
    {
     "name": "stdout",
     "output_type": "stream",
     "text": [
      "0 1 2 3 4 5 6 7 8 9 0 1 2 3 4 5 6 7 8 9 "
     ]
    }
   ],
   "source": [
    "#1\n",
    "\"\"\"\n",
    "for loop is used to iterate over a sequence (list, tuple, string, etc.)\n",
    "\"\"\"\n",
    "# for loop use\n",
    "for i in range(10):\n",
    "    print(i,end=\" \")\n",
    "\n",
    "\"\"\" \n",
    "while loop is used to execute a block of code as long as a certain condition is true\n",
    "\"\"\"\n",
    "# while loop use\n",
    "i = 0\n",
    "while i < 10:\n",
    "    print(i,end=\" \")\n",
    "    i += 1"
   ]
  },
  {
   "cell_type": "code",
   "execution_count": 2,
   "id": "fa0bc69d-d53c-452d-842c-37364ee854e7",
   "metadata": {},
   "outputs": [
    {
     "name": "stdout",
     "output_type": "stream",
     "text": [
      "sum is: 55 and product is: 3628800\n",
      "\n",
      "sum is: 55 and product is: 3628800\n"
     ]
    }
   ],
   "source": [
    "#2\n",
    "# first 10 natural numbers using for loop\n",
    "sum=0;\n",
    "product=1\n",
    "for i in range(1,11):\n",
    "    sum+=i\n",
    "    product*=i\n",
    "print(\"sum is:\",sum,\"and product is:\",product)\n",
    "\n",
    "# first 10 natural numbers using while loop\n",
    "i=1\n",
    "sum=0;\n",
    "product=1\n",
    "print(\"\\r\")\n",
    "while i<11:\n",
    "    sum+=i\n",
    "    product*=i\n",
    "    i+=1\n",
    "print(\"sum is:\",sum,\"and product is:\",product)"
   ]
  },
  {
   "cell_type": "code",
   "execution_count": null,
   "id": "4dfb1f1b-21cc-4fac-b6b7-32ba53d31c8b",
   "metadata": {},
   "outputs": [],
   "source": [
    "#3\n",
    "unit = int(input(\"Enter the units of electricity\"))\n",
    "\n",
    "if unit >= 1 and unit <= 100:\n",
    "    print( unit*4.5)\n",
    "elif unit>100 and unit<=200 :\n",
    "    print((100*4.5)+(unit-100)*6)\n",
    "elif unit>200 and unit<=300:\n",
    "    print((100*4.5)+(100*6)+(unit-200)*10)\n",
    "elif unit>300:\n",
    "    print(2050+((unit-300)*20))"
   ]
  },
  {
   "cell_type": "code",
   "execution_count": 1,
   "id": "fd2af300-c4dc-4326-855e-d077c54c3960",
   "metadata": {},
   "outputs": [
    {
     "name": "stdout",
     "output_type": "stream",
     "text": [
      "[8, 64, 125, 216, 512, 1000, 1728, 2744, 3375, 4096, 5832, 8000, 10648, 13824, 15625, 17576, 21952, 27000, 32768, 39304, 42875, 46656, 54872, 64000, 74088, 85184, 91125, 97336, 110592, 125000, 140608, 157464, 166375, 175616, 195112, 216000, 238328, 262144, 274625, 287496, 314432, 343000, 373248, 405224, 421875, 438976, 474552, 512000, 551368, 592704, 614125, 636056, 681472, 729000, 778688, 830584, 857375, 884736, 941192, 1000000]\n"
     ]
    }
   ],
   "source": [
    "#4\n",
    "# list of numbers from 1 to 100\n",
    "num=list(range(1,101))\n",
    "\n",
    "# list to store cubes of numbers\n",
    "cube=[]\n",
    "\n",
    "# append cubes of num\n",
    "for i in num:\n",
    "    cube.append(i**3)\n",
    "    \n",
    "# answer list to store cubes divisible by 4 or 5\n",
    "ans=[]\n",
    "for i in cube:\n",
    "    if i%4==0 or i%5==0:\n",
    "        ans.append(i)\n",
    "print(ans)"
   ]
  },
  {
   "cell_type": "code",
   "execution_count": 4,
   "id": "196a26e7-64e0-4730-acf8-0941fbcb7390",
   "metadata": {},
   "outputs": [
    {
     "name": "stdout",
     "output_type": "stream",
     "text": [
      "12\n"
     ]
    }
   ],
   "source": [
    "#5\n",
    "\n",
    "# count variable to count the number of vowels words\n",
    "cnt=0\n",
    "str=\"I want to become a data scientist\"\n",
    "vowels=\"aeiouAEIOU\"\n",
    "\n",
    "# iterate in given string\n",
    "for char in str:\n",
    "#     check if char is present in vowels\n",
    "    if char in vowels:\n",
    "        cnt+=1\n",
    "print(cnt)"
   ]
  },
  {
   "cell_type": "code",
   "execution_count": null,
   "id": "b06a029b-95ee-47f3-8dc6-9ea9127c0abf",
   "metadata": {},
   "outputs": [],
   "source": []
  }
 ],
 "metadata": {
  "kernelspec": {
   "display_name": "Python 3 (ipykernel)",
   "language": "python",
   "name": "python3"
  },
  "language_info": {
   "codemirror_mode": {
    "name": "ipython",
    "version": 3
   },
   "file_extension": ".py",
   "mimetype": "text/x-python",
   "name": "python",
   "nbconvert_exporter": "python",
   "pygments_lexer": "ipython3",
   "version": "3.10.8"
  }
 },
 "nbformat": 4,
 "nbformat_minor": 5
}
